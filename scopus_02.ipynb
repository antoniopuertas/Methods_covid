{
 "cells": [
  {
   "cell_type": "code",
   "execution_count": 2,
   "metadata": {},
   "outputs": [],
   "source": [
    "import json\n",
    "import warnings\n",
    "import pandas as pd\n",
    "import os\n",
    "import sys\n",
    "import matplotlib.pyplot as plt\n",
    "plt.close('all')"
   ]
  },
  {
   "cell_type": "code",
   "execution_count": 3,
   "metadata": {},
   "outputs": [
    {
     "data": {
      "text/plain": [
       "'C:\\\\Users\\\\anton\\\\projects\\\\methods\\\\notebooks'"
      ]
     },
     "execution_count": 3,
     "metadata": {},
     "output_type": "execute_result"
    }
   ],
   "source": [
    "os.getcwd()"
   ]
  },
  {
   "cell_type": "code",
   "execution_count": 4,
   "metadata": {},
   "outputs": [
    {
     "data": {
      "text/plain": [
       "Index(['Authors', 'Author(s) ID', 'Title', 'Year', 'Source title', 'Volume',\n",
       "       'Issue', 'Art. No.', 'Page start', 'Page end', 'Page count', 'Cited by',\n",
       "       'DOI', 'Link', 'Affiliations', 'Authors with affiliations', 'Abstract',\n",
       "       'Author Keywords', 'Index Keywords', 'Correspondence Address',\n",
       "       'Editors', 'Publisher', 'ISSN', 'ISBN', 'CODEN', 'PubMed ID',\n",
       "       'Language of Original Document', 'Abbreviated Source Title',\n",
       "       'Document Type', 'Publication Stage', 'Access Type', 'Source', 'EID'],\n",
       "      dtype='object')"
      ]
     },
     "execution_count": 4,
     "metadata": {},
     "output_type": "execute_result"
    }
   ],
   "source": [
    "paper_source_scopus = 'C:\\\\Users\\\\anton\\\\projects\\\\methods\\\\source_files\\\\scopus_02.csv'\n",
    "data1 = pd.read_csv(paper_source_scopus)\n",
    "data1.keys()\n",
    "\n",
    "#df4_02= df_01.assign(paper_source_scopus=paper_source_scopus)\n",
    "#df4_02.to_csv('out_scopus.csv', mode='a', index=False)\n",
    "#df4_02.head()"
   ]
  },
  {
   "cell_type": "code",
   "execution_count": 5,
   "metadata": {},
   "outputs": [
    {
     "data": {
      "text/html": [
       "<div>\n",
       "<style scoped>\n",
       "    .dataframe tbody tr th:only-of-type {\n",
       "        vertical-align: middle;\n",
       "    }\n",
       "\n",
       "    .dataframe tbody tr th {\n",
       "        vertical-align: top;\n",
       "    }\n",
       "\n",
       "    .dataframe thead th {\n",
       "        text-align: right;\n",
       "    }\n",
       "</style>\n",
       "<table border=\"1\" class=\"dataframe\">\n",
       "  <thead>\n",
       "    <tr style=\"text-align: right;\">\n",
       "      <th></th>\n",
       "      <th>Authors</th>\n",
       "      <th>Author(s) ID</th>\n",
       "      <th>Title</th>\n",
       "      <th>Year</th>\n",
       "      <th>Source title</th>\n",
       "      <th>Volume</th>\n",
       "      <th>Issue</th>\n",
       "      <th>Art. No.</th>\n",
       "      <th>Page start</th>\n",
       "      <th>Page end</th>\n",
       "      <th>...</th>\n",
       "      <th>ISBN</th>\n",
       "      <th>CODEN</th>\n",
       "      <th>PubMed ID</th>\n",
       "      <th>Language of Original Document</th>\n",
       "      <th>Abbreviated Source Title</th>\n",
       "      <th>Document Type</th>\n",
       "      <th>Publication Stage</th>\n",
       "      <th>Access Type</th>\n",
       "      <th>Source</th>\n",
       "      <th>EID</th>\n",
       "    </tr>\n",
       "  </thead>\n",
       "  <tbody>\n",
       "    <tr>\n",
       "      <th>0</th>\n",
       "      <td>Xu R., Cui B., Duan X., Zhang P., Zhou X., Yua...</td>\n",
       "      <td>56329900200;57194548357;57216427841;5721628314...</td>\n",
       "      <td>Saliva: potential diagnostic value and transmi...</td>\n",
       "      <td>2020</td>\n",
       "      <td>International Journal of Oral Science</td>\n",
       "      <td>12.0</td>\n",
       "      <td>1</td>\n",
       "      <td>11</td>\n",
       "      <td>NaN</td>\n",
       "      <td>NaN</td>\n",
       "      <td>...</td>\n",
       "      <td>NaN</td>\n",
       "      <td>NaN</td>\n",
       "      <td>32300101.0</td>\n",
       "      <td>English</td>\n",
       "      <td>Int. J. Oral Sci.</td>\n",
       "      <td>Review</td>\n",
       "      <td>Final</td>\n",
       "      <td>Open Access</td>\n",
       "      <td>Scopus</td>\n",
       "      <td>2-s2.0-85083478004</td>\n",
       "    </tr>\n",
       "    <tr>\n",
       "      <th>1</th>\n",
       "      <td>Peng X., Xu X., Li Y., Cheng L., Zhou X., Ren B.</td>\n",
       "      <td>57008551100;55619297408;57215524470;5700853660...</td>\n",
       "      <td>Transmission routes of 2019-nCoV and controls ...</td>\n",
       "      <td>2020</td>\n",
       "      <td>International Journal of Oral Science</td>\n",
       "      <td>12.0</td>\n",
       "      <td>1</td>\n",
       "      <td>9</td>\n",
       "      <td>NaN</td>\n",
       "      <td>NaN</td>\n",
       "      <td>...</td>\n",
       "      <td>NaN</td>\n",
       "      <td>NaN</td>\n",
       "      <td>32127517.0</td>\n",
       "      <td>English</td>\n",
       "      <td>Int. J. Oral Sci.</td>\n",
       "      <td>Review</td>\n",
       "      <td>Final</td>\n",
       "      <td>Open Access</td>\n",
       "      <td>Scopus</td>\n",
       "      <td>2-s2.0-85081042657</td>\n",
       "    </tr>\n",
       "  </tbody>\n",
       "</table>\n",
       "<p>2 rows × 33 columns</p>\n",
       "</div>"
      ],
      "text/plain": [
       "                                             Authors  \\\n",
       "0  Xu R., Cui B., Duan X., Zhang P., Zhou X., Yua...   \n",
       "1   Peng X., Xu X., Li Y., Cheng L., Zhou X., Ren B.   \n",
       "\n",
       "                                        Author(s) ID  \\\n",
       "0  56329900200;57194548357;57216427841;5721628314...   \n",
       "1  57008551100;55619297408;57215524470;5700853660...   \n",
       "\n",
       "                                               Title  Year  \\\n",
       "0  Saliva: potential diagnostic value and transmi...  2020   \n",
       "1  Transmission routes of 2019-nCoV and controls ...  2020   \n",
       "\n",
       "                            Source title  Volume Issue Art. No. Page start  \\\n",
       "0  International Journal of Oral Science    12.0     1       11        NaN   \n",
       "1  International Journal of Oral Science    12.0     1        9        NaN   \n",
       "\n",
       "  Page end  ...  ISBN  CODEN   PubMed ID Language of Original Document  \\\n",
       "0      NaN  ...   NaN    NaN  32300101.0                       English   \n",
       "1      NaN  ...   NaN    NaN  32127517.0                       English   \n",
       "\n",
       "  Abbreviated Source Title Document Type Publication Stage  Access Type  \\\n",
       "0        Int. J. Oral Sci.        Review             Final  Open Access   \n",
       "1        Int. J. Oral Sci.        Review             Final  Open Access   \n",
       "\n",
       "   Source                 EID  \n",
       "0  Scopus  2-s2.0-85083478004  \n",
       "1  Scopus  2-s2.0-85081042657  \n",
       "\n",
       "[2 rows x 33 columns]"
      ]
     },
     "execution_count": 5,
     "metadata": {},
     "output_type": "execute_result"
    }
   ],
   "source": [
    "df4_02 = pd.DataFrame(data1)\n",
    "df4_02.head(2)"
   ]
  },
  {
   "cell_type": "code",
   "execution_count": 6,
   "metadata": {},
   "outputs": [
    {
     "data": {
      "text/plain": [
       "(676, 33)"
      ]
     },
     "execution_count": 6,
     "metadata": {},
     "output_type": "execute_result"
    }
   ],
   "source": [
    "df4_02.shape"
   ]
  },
  {
   "cell_type": "code",
   "execution_count": 8,
   "metadata": {},
   "outputs": [
    {
     "data": {
      "text/plain": [
       "(289, 33)"
      ]
     },
     "execution_count": 8,
     "metadata": {},
     "output_type": "execute_result"
    }
   ],
   "source": [
    "with open('C:\\\\Users\\\\anton\\\\projects\\\\methods\\\\aux_txt_files\\\\values_methods.txt', 'r') as read_data:\n",
    "    search_values_input = read_data.read().splitlines()\n",
    "    #print(read_data_1)\n",
    "    #print(search_values_input)\n",
    "read_data.close()\n",
    "df4_03 = df4_02.sort_values(by='Abstract', ascending=False)\n",
    "df4_3_1 = df4_03[df4_03['Abstract'].str.contains('|'.join(search_values_input), case=False)]\n",
    "#plt.plot(df_3_1.rel_title, df_3_1.rel_doi, \"o\" )\n",
    "#plt.show()\n",
    "df4_3_1.shape"
   ]
  },
  {
   "cell_type": "code",
   "execution_count": 11,
   "metadata": {},
   "outputs": [
    {
     "data": {
      "text/html": [
       "<div>\n",
       "<style scoped>\n",
       "    .dataframe tbody tr th:only-of-type {\n",
       "        vertical-align: middle;\n",
       "    }\n",
       "\n",
       "    .dataframe tbody tr th {\n",
       "        vertical-align: top;\n",
       "    }\n",
       "\n",
       "    .dataframe thead th {\n",
       "        text-align: right;\n",
       "    }\n",
       "</style>\n",
       "<table border=\"1\" class=\"dataframe\">\n",
       "  <thead>\n",
       "    <tr style=\"text-align: right;\">\n",
       "      <th></th>\n",
       "      <th>Title</th>\n",
       "      <th>DOI</th>\n",
       "      <th>Abstract</th>\n",
       "    </tr>\n",
       "  </thead>\n",
       "  <tbody>\n",
       "    <tr>\n",
       "      <th>150</th>\n",
       "      <td>2019 novel coronavirus disease (Covid-19): Det...</td>\n",
       "      <td>NaN</td>\n",
       "      <td>The most recent pneumonia outbreak caused by a...</td>\n",
       "    </tr>\n",
       "    <tr>\n",
       "      <th>338</th>\n",
       "      <td>Management of corona virus disease-19 (COVID-1...</td>\n",
       "      <td>NaN</td>\n",
       "      <td>The current epidemic situation of corona virus...</td>\n",
       "    </tr>\n",
       "    <tr>\n",
       "      <th>133</th>\n",
       "      <td>Laboratory diagnosis, safety and testing strat...</td>\n",
       "      <td>NaN</td>\n",
       "      <td>The COVID 19 Pandemic is the most defining hea...</td>\n",
       "    </tr>\n",
       "    <tr>\n",
       "      <th>321</th>\n",
       "      <td>Clinical features and chest CT findings of cor...</td>\n",
       "      <td>NaN</td>\n",
       "      <td>OBJECTIVE: To study the clinical features and ...</td>\n",
       "    </tr>\n",
       "    <tr>\n",
       "      <th>270</th>\n",
       "      <td>Breathe analyser for respiratory diseases: A r...</td>\n",
       "      <td>NaN</td>\n",
       "      <td>In present scenario respiratory diseases are m...</td>\n",
       "    </tr>\n",
       "    <tr>\n",
       "      <th>675</th>\n",
       "      <td>Specificity and epitope mapping of four monocl...</td>\n",
       "      <td>NaN</td>\n",
       "      <td>In order to characterize the specificity of th...</td>\n",
       "    </tr>\n",
       "    <tr>\n",
       "      <th>135</th>\n",
       "      <td>Screening of covid-19 suspect cases in a cargo...</td>\n",
       "      <td>NaN</td>\n",
       "      <td>Background: World Health Organization (WHO), C...</td>\n",
       "    </tr>\n",
       "    <tr>\n",
       "      <th>658</th>\n",
       "      <td>\"Five-early\" model: The magic weapon against c...</td>\n",
       "      <td>NaN</td>\n",
       "      <td>Background: COVID-19(2019 novel coronavirus di...</td>\n",
       "    </tr>\n",
       "  </tbody>\n",
       "</table>\n",
       "</div>"
      ],
      "text/plain": [
       "                                                 Title  DOI  \\\n",
       "150  2019 novel coronavirus disease (Covid-19): Det...  NaN   \n",
       "338  Management of corona virus disease-19 (COVID-1...  NaN   \n",
       "133  Laboratory diagnosis, safety and testing strat...  NaN   \n",
       "321  Clinical features and chest CT findings of cor...  NaN   \n",
       "270  Breathe analyser for respiratory diseases: A r...  NaN   \n",
       "675  Specificity and epitope mapping of four monocl...  NaN   \n",
       "135  Screening of covid-19 suspect cases in a cargo...  NaN   \n",
       "658  \"Five-early\" model: The magic weapon against c...  NaN   \n",
       "\n",
       "                                              Abstract  \n",
       "150  The most recent pneumonia outbreak caused by a...  \n",
       "338  The current epidemic situation of corona virus...  \n",
       "133  The COVID 19 Pandemic is the most defining hea...  \n",
       "321  OBJECTIVE: To study the clinical features and ...  \n",
       "270  In present scenario respiratory diseases are m...  \n",
       "675  In order to characterize the specificity of th...  \n",
       "135  Background: World Health Organization (WHO), C...  \n",
       "658  Background: COVID-19(2019 novel coronavirus di...  "
      ]
     },
     "execution_count": 11,
     "metadata": {},
     "output_type": "execute_result"
    }
   ],
   "source": [
    "import warnings\n",
    "with open('C:\\\\Users\\\\anton\\\\projects\\\\methods\\\\aux_txt_files\\\\20200510_doi.txt', 'r') as read_data:\n",
    "    search_values_input = read_data.read().splitlines()\n",
    "    #print(read_data_1)\n",
    "    #print(search_values_input)\n",
    "read_data.close()\n",
    "#print(search_values_input)\n",
    "df4_03 = df4_3_1.sort_values(by='DOI', ascending=False)\n",
    "#df_03.head()\n",
    "warnings.filterwarnings(\"ignore\", 'This pattern has match groups')\n",
    "df4_3_2 = df4_03[df4_03['DOI'].str.contains('|'.join(search_values_input), case=False, na=False)]\n",
    "df4_3_2.index\n",
    "df4_2_2 = df4_3_1.drop(df4_3_2.index)\n",
    "df4_2_2[['Title', 'DOI', 'Abstract']]"
   ]
  },
  {
   "cell_type": "code",
   "execution_count": 12,
   "metadata": {},
   "outputs": [
    {
     "data": {
      "text/plain": [
       "(8, 33)"
      ]
     },
     "execution_count": 12,
     "metadata": {},
     "output_type": "execute_result"
    }
   ],
   "source": [
    "df4_2_2.shape"
   ]
  },
  {
   "cell_type": "code",
   "execution_count": 13,
   "metadata": {},
   "outputs": [
    {
     "data": {
      "text/html": [
       "<div>\n",
       "<style scoped>\n",
       "    .dataframe tbody tr th:only-of-type {\n",
       "        vertical-align: middle;\n",
       "    }\n",
       "\n",
       "    .dataframe tbody tr th {\n",
       "        vertical-align: top;\n",
       "    }\n",
       "\n",
       "    .dataframe thead th {\n",
       "        text-align: right;\n",
       "    }\n",
       "</style>\n",
       "<table border=\"1\" class=\"dataframe\">\n",
       "  <thead>\n",
       "    <tr style=\"text-align: right;\">\n",
       "      <th></th>\n",
       "      <th>Title</th>\n",
       "      <th>DOI</th>\n",
       "      <th>Abstract</th>\n",
       "    </tr>\n",
       "  </thead>\n",
       "  <tbody>\n",
       "    <tr>\n",
       "      <th>150</th>\n",
       "      <td>2019 novel coronavirus disease (Covid-19): Det...</td>\n",
       "      <td>NaN</td>\n",
       "      <td>The most recent pneumonia outbreak caused by a...</td>\n",
       "    </tr>\n",
       "    <tr>\n",
       "      <th>338</th>\n",
       "      <td>Management of corona virus disease-19 (COVID-1...</td>\n",
       "      <td>NaN</td>\n",
       "      <td>The current epidemic situation of corona virus...</td>\n",
       "    </tr>\n",
       "    <tr>\n",
       "      <th>133</th>\n",
       "      <td>Laboratory diagnosis, safety and testing strat...</td>\n",
       "      <td>NaN</td>\n",
       "      <td>The COVID 19 Pandemic is the most defining hea...</td>\n",
       "    </tr>\n",
       "    <tr>\n",
       "      <th>321</th>\n",
       "      <td>Clinical features and chest CT findings of cor...</td>\n",
       "      <td>NaN</td>\n",
       "      <td>OBJECTIVE: To study the clinical features and ...</td>\n",
       "    </tr>\n",
       "    <tr>\n",
       "      <th>270</th>\n",
       "      <td>Breathe analyser for respiratory diseases: A r...</td>\n",
       "      <td>NaN</td>\n",
       "      <td>In present scenario respiratory diseases are m...</td>\n",
       "    </tr>\n",
       "    <tr>\n",
       "      <th>675</th>\n",
       "      <td>Specificity and epitope mapping of four monocl...</td>\n",
       "      <td>NaN</td>\n",
       "      <td>In order to characterize the specificity of th...</td>\n",
       "    </tr>\n",
       "    <tr>\n",
       "      <th>135</th>\n",
       "      <td>Screening of covid-19 suspect cases in a cargo...</td>\n",
       "      <td>NaN</td>\n",
       "      <td>Background: World Health Organization (WHO), C...</td>\n",
       "    </tr>\n",
       "    <tr>\n",
       "      <th>658</th>\n",
       "      <td>\"Five-early\" model: The magic weapon against c...</td>\n",
       "      <td>NaN</td>\n",
       "      <td>Background: COVID-19(2019 novel coronavirus di...</td>\n",
       "    </tr>\n",
       "  </tbody>\n",
       "</table>\n",
       "</div>"
      ],
      "text/plain": [
       "                                                 Title  DOI  \\\n",
       "150  2019 novel coronavirus disease (Covid-19): Det...  NaN   \n",
       "338  Management of corona virus disease-19 (COVID-1...  NaN   \n",
       "133  Laboratory diagnosis, safety and testing strat...  NaN   \n",
       "321  Clinical features and chest CT findings of cor...  NaN   \n",
       "270  Breathe analyser for respiratory diseases: A r...  NaN   \n",
       "675  Specificity and epitope mapping of four monocl...  NaN   \n",
       "135  Screening of covid-19 suspect cases in a cargo...  NaN   \n",
       "658  \"Five-early\" model: The magic weapon against c...  NaN   \n",
       "\n",
       "                                              Abstract  \n",
       "150  The most recent pneumonia outbreak caused by a...  \n",
       "338  The current epidemic situation of corona virus...  \n",
       "133  The COVID 19 Pandemic is the most defining hea...  \n",
       "321  OBJECTIVE: To study the clinical features and ...  \n",
       "270  In present scenario respiratory diseases are m...  \n",
       "675  In order to characterize the specificity of th...  \n",
       "135  Background: World Health Organization (WHO), C...  \n",
       "658  Background: COVID-19(2019 novel coronavirus di...  "
      ]
     },
     "execution_count": 13,
     "metadata": {},
     "output_type": "execute_result"
    }
   ],
   "source": [
    "df4_testo = df4_2_2[['Title', 'DOI', 'Abstract']]\n",
    "df4_testo"
   ]
  },
  {
   "cell_type": "code",
   "execution_count": 14,
   "metadata": {},
   "outputs": [],
   "source": [
    "df4_testo.to_csv('C:\\\\Users\\\\anton\\\\projects\\\\methods\\\\out_lists\\\\scopus_02_extraction.csv', header=None, index=None, sep=' ', mode='a')"
   ]
  },
  {
   "cell_type": "code",
   "execution_count": 16,
   "metadata": {},
   "outputs": [],
   "source": [
    "df4_4_list = df4_2_2['PubMed ID']\n",
    "df4_4_list\n",
    "df4_4_list.to_csv('C:\\\\Users\\\\anton\\\\projects\\\\methods\\\\out_lists\\\\scopus_02_PMCID_list.txt', header=None, index=None, sep=' ', mode='a')"
   ]
  },
  {
   "cell_type": "code",
   "execution_count": null,
   "metadata": {},
   "outputs": [],
   "source": []
  }
 ],
 "metadata": {
  "kernelspec": {
   "display_name": "Python 3",
   "language": "python",
   "name": "python3"
  },
  "language_info": {
   "codemirror_mode": {
    "name": "ipython",
    "version": 3
   },
   "file_extension": ".py",
   "mimetype": "text/x-python",
   "name": "python",
   "nbconvert_exporter": "python",
   "pygments_lexer": "ipython3",
   "version": "3.7.6"
  }
 },
 "nbformat": 4,
 "nbformat_minor": 4
}
