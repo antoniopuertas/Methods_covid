{
 "cells": [
  {
   "cell_type": "code",
   "execution_count": 1,
   "metadata": {},
   "outputs": [],
   "source": [
    "import json\n",
    "import pandas as pd\n",
    "import os\n",
    "import sys\n",
    "import matplotlib.pyplot as plt\n",
    "plt.close('all')"
   ]
  },
  {
   "cell_type": "code",
   "execution_count": 2,
   "metadata": {},
   "outputs": [
    {
     "data": {
      "text/plain": [
       "'C:\\\\Users\\\\anton\\\\projects\\\\methods\\\\notebooks'"
      ]
     },
     "execution_count": 2,
     "metadata": {},
     "output_type": "execute_result"
    }
   ],
   "source": [
    "os.getcwd()"
   ]
  },
  {
   "cell_type": "code",
   "execution_count": 3,
   "metadata": {},
   "outputs": [
    {
     "data": {
      "text/plain": [
       "dict_keys(['gname', 'grp_id', 'rels'])"
      ]
     },
     "execution_count": 3,
     "metadata": {},
     "output_type": "execute_result"
    }
   ],
   "source": [
    "paper_source = 'C:\\\\Users\\\\anton\\\\projects\\\\methods\\\\source_files\\\\collection_json.json'\n",
    "data1 = json.load(open(paper_source))\n",
    "data1.keys()"
   ]
  },
  {
   "cell_type": "code",
   "execution_count": 6,
   "metadata": {},
   "outputs": [
    {
     "data": {
      "text/html": [
       "<div>\n",
       "<style scoped>\n",
       "    .dataframe tbody tr th:only-of-type {\n",
       "        vertical-align: middle;\n",
       "    }\n",
       "\n",
       "    .dataframe tbody tr th {\n",
       "        vertical-align: top;\n",
       "    }\n",
       "\n",
       "    .dataframe thead th {\n",
       "        text-align: right;\n",
       "    }\n",
       "</style>\n",
       "<table border=\"1\" class=\"dataframe\">\n",
       "  <thead>\n",
       "    <tr style=\"text-align: right;\">\n",
       "      <th></th>\n",
       "      <th>rel_title</th>\n",
       "      <th>rel_doi</th>\n",
       "      <th>rel_link</th>\n",
       "      <th>rel_abs</th>\n",
       "      <th>rel_num_authors</th>\n",
       "      <th>rel_authors</th>\n",
       "      <th>rel_date</th>\n",
       "      <th>rel_site</th>\n",
       "      <th>paper_source</th>\n",
       "    </tr>\n",
       "  </thead>\n",
       "  <tbody>\n",
       "    <tr>\n",
       "      <th>0</th>\n",
       "      <td>Development of a Clinical Decision Support Sys...</td>\n",
       "      <td>10.1101/2020.05.01.20053413</td>\n",
       "      <td>http://medrxiv.org/cgi/content/short/2020.05.0...</td>\n",
       "      <td>IMPORTANCE The outbreak of the coronavirus dis...</td>\n",
       "      <td>28</td>\n",
       "      <td>[{'author_name': 'Guangyao Wu', 'author_inst':...</td>\n",
       "      <td>2020-05-07</td>\n",
       "      <td>medrxiv</td>\n",
       "      <td>C:\\Users\\anton\\projects\\methods\\source_files\\c...</td>\n",
       "    </tr>\n",
       "    <tr>\n",
       "      <th>1</th>\n",
       "      <td>A non-competing pair of human neutralizing ant...</td>\n",
       "      <td>10.1101/2020.05.01.20077743</td>\n",
       "      <td>http://medrxiv.org/cgi/content/short/2020.05.0...</td>\n",
       "      <td>Neutralizing antibodies could be antivirals ag...</td>\n",
       "      <td>24</td>\n",
       "      <td>[{'author_name': 'Yan Wu', 'author_inst': 'Cap...</td>\n",
       "      <td>2020-05-07</td>\n",
       "      <td>medrxiv</td>\n",
       "      <td>C:\\Users\\anton\\projects\\methods\\source_files\\c...</td>\n",
       "    </tr>\n",
       "  </tbody>\n",
       "</table>\n",
       "</div>"
      ],
      "text/plain": [
       "                                           rel_title  \\\n",
       "0  Development of a Clinical Decision Support Sys...   \n",
       "1  A non-competing pair of human neutralizing ant...   \n",
       "\n",
       "                       rel_doi  \\\n",
       "0  10.1101/2020.05.01.20053413   \n",
       "1  10.1101/2020.05.01.20077743   \n",
       "\n",
       "                                            rel_link  \\\n",
       "0  http://medrxiv.org/cgi/content/short/2020.05.0...   \n",
       "1  http://medrxiv.org/cgi/content/short/2020.05.0...   \n",
       "\n",
       "                                             rel_abs  rel_num_authors  \\\n",
       "0  IMPORTANCE The outbreak of the coronavirus dis...               28   \n",
       "1  Neutralizing antibodies could be antivirals ag...               24   \n",
       "\n",
       "                                         rel_authors    rel_date rel_site  \\\n",
       "0  [{'author_name': 'Guangyao Wu', 'author_inst':...  2020-05-07  medrxiv   \n",
       "1  [{'author_name': 'Yan Wu', 'author_inst': 'Cap...  2020-05-07  medrxiv   \n",
       "\n",
       "                                        paper_source  \n",
       "0  C:\\Users\\anton\\projects\\methods\\source_files\\c...  \n",
       "1  C:\\Users\\anton\\projects\\methods\\source_files\\c...  "
      ]
     },
     "execution_count": 6,
     "metadata": {},
     "output_type": "execute_result"
    }
   ],
   "source": [
    "df1_01 = pd.DataFrame(data1[\"rels\"])\n",
    "df1_02= df1_01.assign(paper_source=paper_source)\n",
    "#df_02.to_csv('out_df_2.csv', mode='a', index=False)\n",
    "df1_02.head(2)"
   ]
  },
  {
   "cell_type": "code",
   "execution_count": 7,
   "metadata": {},
   "outputs": [
    {
     "data": {
      "text/plain": [
       "(2943, 9)"
      ]
     },
     "execution_count": 7,
     "metadata": {},
     "output_type": "execute_result"
    }
   ],
   "source": [
    "df1_02.shape"
   ]
  },
  {
   "cell_type": "code",
   "execution_count": 10,
   "metadata": {},
   "outputs": [
    {
     "data": {
      "text/html": [
       "<div>\n",
       "<style scoped>\n",
       "    .dataframe tbody tr th:only-of-type {\n",
       "        vertical-align: middle;\n",
       "    }\n",
       "\n",
       "    .dataframe tbody tr th {\n",
       "        vertical-align: top;\n",
       "    }\n",
       "\n",
       "    .dataframe thead th {\n",
       "        text-align: right;\n",
       "    }\n",
       "</style>\n",
       "<table border=\"1\" class=\"dataframe\">\n",
       "  <thead>\n",
       "    <tr style=\"text-align: right;\">\n",
       "      <th></th>\n",
       "      <th>rel_title</th>\n",
       "      <th>rel_doi</th>\n",
       "      <th>rel_link</th>\n",
       "      <th>rel_abs</th>\n",
       "      <th>rel_num_authors</th>\n",
       "      <th>rel_authors</th>\n",
       "      <th>rel_date</th>\n",
       "      <th>rel_site</th>\n",
       "      <th>paper_source</th>\n",
       "    </tr>\n",
       "  </thead>\n",
       "  <tbody>\n",
       "    <tr>\n",
       "      <th>31</th>\n",
       "      <td>Bacteremia and Blood Culture Utilization Durin...</td>\n",
       "      <td>10.1101/2020.05.05.20080044</td>\n",
       "      <td>http://medrxiv.org/cgi/content/short/2020.05.0...</td>\n",
       "      <td>A surge of patients with coronavirus disease 2...</td>\n",
       "      <td>16</td>\n",
       "      <td>[{'author_name': 'Jorge Sepulveda', 'author_in...</td>\n",
       "      <td>2020-05-06</td>\n",
       "      <td>medrxiv</td>\n",
       "      <td>C:\\Users\\anton\\projects\\methods\\source_files\\c...</td>\n",
       "    </tr>\n",
       "    <tr>\n",
       "      <th>175</th>\n",
       "      <td>Clinical and Genetic Characteristics of Covid-...</td>\n",
       "      <td>10.1101/2020.05.05.20075507</td>\n",
       "      <td>http://medrxiv.org/cgi/content/short/2020.05.0...</td>\n",
       "      <td>We conducted an analysis of 669 Covid-19 posit...</td>\n",
       "      <td>3</td>\n",
       "      <td>[{'author_name': 'David A Kolin', 'author_inst...</td>\n",
       "      <td>2020-05-05</td>\n",
       "      <td>medrxiv</td>\n",
       "      <td>C:\\Users\\anton\\projects\\methods\\source_files\\c...</td>\n",
       "    </tr>\n",
       "  </tbody>\n",
       "</table>\n",
       "</div>"
      ],
      "text/plain": [
       "                                             rel_title  \\\n",
       "31   Bacteremia and Blood Culture Utilization Durin...   \n",
       "175  Clinical and Genetic Characteristics of Covid-...   \n",
       "\n",
       "                         rel_doi  \\\n",
       "31   10.1101/2020.05.05.20080044   \n",
       "175  10.1101/2020.05.05.20075507   \n",
       "\n",
       "                                              rel_link  \\\n",
       "31   http://medrxiv.org/cgi/content/short/2020.05.0...   \n",
       "175  http://medrxiv.org/cgi/content/short/2020.05.0...   \n",
       "\n",
       "                                               rel_abs  rel_num_authors  \\\n",
       "31   A surge of patients with coronavirus disease 2...               16   \n",
       "175  We conducted an analysis of 669 Covid-19 posit...                3   \n",
       "\n",
       "                                           rel_authors    rel_date rel_site  \\\n",
       "31   [{'author_name': 'Jorge Sepulveda', 'author_in...  2020-05-06  medrxiv   \n",
       "175  [{'author_name': 'David A Kolin', 'author_inst...  2020-05-05  medrxiv   \n",
       "\n",
       "                                          paper_source  \n",
       "31   C:\\Users\\anton\\projects\\methods\\source_files\\c...  \n",
       "175  C:\\Users\\anton\\projects\\methods\\source_files\\c...  "
      ]
     },
     "execution_count": 10,
     "metadata": {},
     "output_type": "execute_result"
    }
   ],
   "source": [
    "with open('C:\\\\Users\\\\anton\\\\projects\\\\methods\\\\aux_txt_files\\\\values_methods.txt', 'r') as read_data:\n",
    "    search_values_input = read_data.read().splitlines()\n",
    "    #print(read_data_1)\n",
    "    #print(search_values_input)\n",
    "read_data.close()\n",
    "df1_03 = df1_02.sort_values(by='rel_doi', ascending=False)\n",
    "df1_3_1 = df1_03[df1_03['rel_abs'].str.contains('|'.join(search_values_input), case=False)]\n",
    "#plt.plot(df_3_1.rel_title, df_3_1.rel_doi, \"o\" )\n",
    "#plt.show()\n",
    "#df1_3_1.head()\n",
    "df1_3_1_1 = df1_3_1.loc[df1_3_1['rel_date'] >= '2020-04-24']\n",
    "df1_3_1_1.head(2)\n",
    "#df_3_1_1.to_csv('out_df_3_1_1.csv', mode='a', index=False)"
   ]
  },
  {
   "cell_type": "code",
   "execution_count": 12,
   "metadata": {},
   "outputs": [
    {
     "data": {
      "text/plain": [
       "(227, 9)"
      ]
     },
     "execution_count": 12,
     "metadata": {},
     "output_type": "execute_result"
    }
   ],
   "source": [
    "df1_3_1_1.shape"
   ]
  },
  {
   "cell_type": "code",
   "execution_count": 15,
   "metadata": {},
   "outputs": [
    {
     "data": {
      "text/plain": [
       "(227, 4)"
      ]
     },
     "execution_count": 15,
     "metadata": {},
     "output_type": "execute_result"
    }
   ],
   "source": [
    "import warnings\n",
    "with open('C:\\\\Users\\\\anton\\\\projects\\\\methods\\\\aux_txt_files\\\\20200508_doi.txt', 'r') as read_data:\n",
    "    search_values_input = read_data.read().splitlines()\n",
    "    #print(read_data_1)\n",
    "    #print(search_values_input)\n",
    "read_data.close()\n",
    "#print(search_values_input)\n",
    "df1_04 = df1_3_1_1.sort_values(by='rel_doi', ascending=False)\n",
    "#df_03.head()\n",
    "warnings.filterwarnings(\"ignore\", 'This pattern has match groups')\n",
    "df1_3_1_2 = df1_04[df1_04['rel_doi'].str.contains('|'.join(search_values_input), case=False, na=False)]\n",
    "df1_3_1_2.index\n",
    "df1_2_1_2 = df1_04.drop(df1_3_1_2.index)\n",
    "df1_05 = df1_2_1_2.loc[:,'rel_title':'rel_abs']\n",
    "#df_testo = df_05['rel_link']\n",
    "#df_06 = df_05['rel_abs']\n",
    "df1_05.shape"
   ]
  },
  {
   "cell_type": "code",
   "execution_count": 22,
   "metadata": {},
   "outputs": [],
   "source": [
    "df1_05.to_csv('C:\\\\Users\\\\anton\\\\projects\\\\methods\\\\out_lists\\\\collection_json_extraction.csv', mode='a', index=False)"
   ]
  },
  {
   "cell_type": "code",
   "execution_count": 23,
   "metadata": {},
   "outputs": [
    {
     "data": {
      "text/plain": [
       "(227, 2)"
      ]
     },
     "execution_count": 23,
     "metadata": {},
     "output_type": "execute_result"
    }
   ],
   "source": [
    "df1_06 = df1_05[['rel_abs', 'rel_doi']]\n",
    "df1_06.to_csv('C:\\\\Users\\\\anton\\\\projects\\\\methods\\\\out_lists\\\\collection_json_abs.csv', mode='a', index=False)\n",
    "df1_06.shape"
   ]
  },
  {
   "cell_type": "code",
   "execution_count": null,
   "metadata": {},
   "outputs": [],
   "source": []
  }
 ],
 "metadata": {
  "kernelspec": {
   "display_name": "Python 3",
   "language": "python",
   "name": "python3"
  },
  "language_info": {
   "codemirror_mode": {
    "name": "ipython",
    "version": 3
   },
   "file_extension": ".py",
   "mimetype": "text/x-python",
   "name": "python",
   "nbconvert_exporter": "python",
   "pygments_lexer": "ipython3",
   "version": "3.7.6"
  }
 },
 "nbformat": 4,
 "nbformat_minor": 4
}
