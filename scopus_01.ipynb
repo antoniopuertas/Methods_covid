{
 "cells": [
  {
   "cell_type": "code",
   "execution_count": 3,
   "metadata": {},
   "outputs": [],
   "source": [
    "import json\n",
    "import warnings\n",
    "import pandas as pd\n",
    "import os\n",
    "import sys\n",
    "import matplotlib.pyplot as plt\n",
    "plt.close('all')"
   ]
  },
  {
   "cell_type": "code",
   "execution_count": 4,
   "metadata": {},
   "outputs": [
    {
     "data": {
      "text/plain": [
       "'C:\\\\Users\\\\anton\\\\projects\\\\methods\\\\notebooks'"
      ]
     },
     "execution_count": 4,
     "metadata": {},
     "output_type": "execute_result"
    }
   ],
   "source": [
    "os.getcwd()"
   ]
  },
  {
   "cell_type": "code",
   "execution_count": 7,
   "metadata": {},
   "outputs": [
    {
     "data": {
      "text/plain": [
       "Index(['Authors', 'Author(s) ID', 'Title', 'Year', 'Source title', 'Volume',\n",
       "       'Issue', 'Art. No.', 'Page start', 'Page end', 'Page count', 'Cited by',\n",
       "       'DOI', 'Link', 'Affiliations', 'Authors with affiliations', 'Abstract',\n",
       "       'Author Keywords', 'Index Keywords', 'Correspondence Address',\n",
       "       'Editors', 'Publisher', 'ISSN', 'ISBN', 'CODEN', 'PubMed ID',\n",
       "       'Language of Original Document', 'Abbreviated Source Title',\n",
       "       'Document Type', 'Publication Stage', 'Access Type', 'Source', 'EID'],\n",
       "      dtype='object')"
      ]
     },
     "execution_count": 7,
     "metadata": {},
     "output_type": "execute_result"
    }
   ],
   "source": [
    "paper_source_scopus = 'C:\\\\Users\\\\anton\\\\projects\\\\methods\\\\source_files\\\\scopus_01.csv'\n",
    "data1 = pd.read_csv(paper_source_scopus)\n",
    "data1.keys()\n",
    "\n",
    "#df_02= df_01.assign(paper_source_scopus=paper_source_scopus)\n",
    "#df_02.to_csv('out_scopus.csv', mode='a', index=False)\n",
    "#df_02.head()"
   ]
  },
  {
   "cell_type": "code",
   "execution_count": 8,
   "metadata": {},
   "outputs": [
    {
     "data": {
      "text/html": [
       "<div>\n",
       "<style scoped>\n",
       "    .dataframe tbody tr th:only-of-type {\n",
       "        vertical-align: middle;\n",
       "    }\n",
       "\n",
       "    .dataframe tbody tr th {\n",
       "        vertical-align: top;\n",
       "    }\n",
       "\n",
       "    .dataframe thead th {\n",
       "        text-align: right;\n",
       "    }\n",
       "</style>\n",
       "<table border=\"1\" class=\"dataframe\">\n",
       "  <thead>\n",
       "    <tr style=\"text-align: right;\">\n",
       "      <th></th>\n",
       "      <th>Authors</th>\n",
       "      <th>Author(s) ID</th>\n",
       "      <th>Title</th>\n",
       "      <th>Year</th>\n",
       "      <th>Source title</th>\n",
       "      <th>Volume</th>\n",
       "      <th>Issue</th>\n",
       "      <th>Art. No.</th>\n",
       "      <th>Page start</th>\n",
       "      <th>Page end</th>\n",
       "      <th>...</th>\n",
       "      <th>ISBN</th>\n",
       "      <th>CODEN</th>\n",
       "      <th>PubMed ID</th>\n",
       "      <th>Language of Original Document</th>\n",
       "      <th>Abbreviated Source Title</th>\n",
       "      <th>Document Type</th>\n",
       "      <th>Publication Stage</th>\n",
       "      <th>Access Type</th>\n",
       "      <th>Source</th>\n",
       "      <th>EID</th>\n",
       "    </tr>\n",
       "  </thead>\n",
       "  <tbody>\n",
       "    <tr>\n",
       "      <th>0</th>\n",
       "      <td>Cesewski E., Johnson B.N.</td>\n",
       "      <td>57193672430;36606380100;</td>\n",
       "      <td>Electrochemical biosensors for pathogen detection</td>\n",
       "      <td>2020</td>\n",
       "      <td>Biosensors and Bioelectronics</td>\n",
       "      <td>159.0</td>\n",
       "      <td>NaN</td>\n",
       "      <td>112214</td>\n",
       "      <td>NaN</td>\n",
       "      <td>NaN</td>\n",
       "      <td>...</td>\n",
       "      <td>NaN</td>\n",
       "      <td>BBIOE</td>\n",
       "      <td>NaN</td>\n",
       "      <td>English</td>\n",
       "      <td>Biosens. Bioelectron.</td>\n",
       "      <td>Review</td>\n",
       "      <td>Final</td>\n",
       "      <td>Open Access</td>\n",
       "      <td>Scopus</td>\n",
       "      <td>2-s2.0-85083359718</td>\n",
       "    </tr>\n",
       "    <tr>\n",
       "      <th>1</th>\n",
       "      <td>Sun P., Qie S., Liu Z., Ren J., Li K., Xi J.</td>\n",
       "      <td>57204239704;57199507148;57215601448;5719912722...</td>\n",
       "      <td>Clinical characteristics of hospitalized patie...</td>\n",
       "      <td>2020</td>\n",
       "      <td>Journal of Medical Virology</td>\n",
       "      <td>92.0</td>\n",
       "      <td>6.0</td>\n",
       "      <td>NaN</td>\n",
       "      <td>612.0</td>\n",
       "      <td>617.0</td>\n",
       "      <td>...</td>\n",
       "      <td>NaN</td>\n",
       "      <td>JMVID</td>\n",
       "      <td>32108351.0</td>\n",
       "      <td>English</td>\n",
       "      <td>J. Med. Virol.</td>\n",
       "      <td>Article</td>\n",
       "      <td>Final</td>\n",
       "      <td>Open Access</td>\n",
       "      <td>Scopus</td>\n",
       "      <td>2-s2.0-85081336819</td>\n",
       "    </tr>\n",
       "  </tbody>\n",
       "</table>\n",
       "<p>2 rows × 33 columns</p>\n",
       "</div>"
      ],
      "text/plain": [
       "                                        Authors  \\\n",
       "0                     Cesewski E., Johnson B.N.   \n",
       "1  Sun P., Qie S., Liu Z., Ren J., Li K., Xi J.   \n",
       "\n",
       "                                        Author(s) ID  \\\n",
       "0                           57193672430;36606380100;   \n",
       "1  57204239704;57199507148;57215601448;5719912722...   \n",
       "\n",
       "                                               Title  Year  \\\n",
       "0  Electrochemical biosensors for pathogen detection  2020   \n",
       "1  Clinical characteristics of hospitalized patie...  2020   \n",
       "\n",
       "                    Source title  Volume  Issue Art. No.  Page start  \\\n",
       "0  Biosensors and Bioelectronics   159.0    NaN   112214         NaN   \n",
       "1    Journal of Medical Virology    92.0    6.0      NaN       612.0   \n",
       "\n",
       "   Page end  ...  ISBN  CODEN   PubMed ID Language of Original Document  \\\n",
       "0       NaN  ...   NaN  BBIOE         NaN                       English   \n",
       "1     617.0  ...   NaN  JMVID  32108351.0                       English   \n",
       "\n",
       "  Abbreviated Source Title Document Type Publication Stage  Access Type  \\\n",
       "0    Biosens. Bioelectron.        Review             Final  Open Access   \n",
       "1           J. Med. Virol.       Article             Final  Open Access   \n",
       "\n",
       "   Source                 EID  \n",
       "0  Scopus  2-s2.0-85083359718  \n",
       "1  Scopus  2-s2.0-85081336819  \n",
       "\n",
       "[2 rows x 33 columns]"
      ]
     },
     "execution_count": 8,
     "metadata": {},
     "output_type": "execute_result"
    }
   ],
   "source": [
    "df3_02 = pd.DataFrame(data1)\n",
    "df3_02.head(2)"
   ]
  },
  {
   "cell_type": "code",
   "execution_count": 9,
   "metadata": {},
   "outputs": [
    {
     "data": {
      "text/plain": [
       "(18, 33)"
      ]
     },
     "execution_count": 9,
     "metadata": {},
     "output_type": "execute_result"
    }
   ],
   "source": [
    "df3_02.shape"
   ]
  },
  {
   "cell_type": "code",
   "execution_count": 10,
   "metadata": {},
   "outputs": [
    {
     "data": {
      "text/plain": [
       "(5, 33)"
      ]
     },
     "execution_count": 10,
     "metadata": {},
     "output_type": "execute_result"
    }
   ],
   "source": [
    "with open('C:\\\\Users\\\\anton\\\\projects\\\\methods\\\\aux_txt_files\\\\values_methods.txt', 'r') as read_data:\n",
    "    search_values_input = read_data.read().splitlines()\n",
    "    #print(read_data_1)\n",
    "    #print(search_values_input)\n",
    "read_data.close()\n",
    "df3_03 = df3_02.sort_values(by='Abstract', ascending=False)\n",
    "df3_3_1 = df3_03[df3_03['Abstract'].str.contains('|'.join(search_values_input), case=False)]\n",
    "#plt.plot(df_3_1.rel_title, df_3_1.rel_doi, \"o\" )\n",
    "#plt.show()\n",
    "df3_3_1.shape"
   ]
  },
  {
   "cell_type": "code",
   "execution_count": 18,
   "metadata": {},
   "outputs": [
    {
     "data": {
      "text/html": [
       "<div>\n",
       "<style scoped>\n",
       "    .dataframe tbody tr th:only-of-type {\n",
       "        vertical-align: middle;\n",
       "    }\n",
       "\n",
       "    .dataframe tbody tr th {\n",
       "        vertical-align: top;\n",
       "    }\n",
       "\n",
       "    .dataframe thead th {\n",
       "        text-align: right;\n",
       "    }\n",
       "</style>\n",
       "<table border=\"1\" class=\"dataframe\">\n",
       "  <thead>\n",
       "    <tr style=\"text-align: right;\">\n",
       "      <th></th>\n",
       "      <th>Title</th>\n",
       "      <th>DOI</th>\n",
       "      <th>Abstract</th>\n",
       "    </tr>\n",
       "  </thead>\n",
       "  <tbody>\n",
       "    <tr>\n",
       "      <th>13</th>\n",
       "      <td>Editorial: low population mortality from COVID...</td>\n",
       "      <td>10.1111/apt.15777</td>\n",
       "      <td>The excellent review by Al-Ani et al reflects ...</td>\n",
       "    </tr>\n",
       "    <tr>\n",
       "      <th>7</th>\n",
       "      <td>COVID-19: an Immunopathological View</td>\n",
       "      <td>10.1128/mSphere.00344-20</td>\n",
       "      <td>Since its emergence in December 2019, it took ...</td>\n",
       "    </tr>\n",
       "    <tr>\n",
       "      <th>0</th>\n",
       "      <td>Electrochemical biosensors for pathogen detection</td>\n",
       "      <td>10.1016/j.bios.2020.112214</td>\n",
       "      <td>Recent advances in electrochemical biosensors ...</td>\n",
       "    </tr>\n",
       "    <tr>\n",
       "      <th>15</th>\n",
       "      <td>Molecular and serological investigation of 201...</td>\n",
       "      <td>10.1080/22221751.2020.1729071</td>\n",
       "      <td>In December 2019, a novel coronavirus (2019-nC...</td>\n",
       "    </tr>\n",
       "    <tr>\n",
       "      <th>11</th>\n",
       "      <td>European Task Force on Atopic Dermatitis (ETFA...</td>\n",
       "      <td>10.1111/jdv.16411</td>\n",
       "      <td>Atopic dermatitis (AD) is a complex disease wi...</td>\n",
       "    </tr>\n",
       "  </tbody>\n",
       "</table>\n",
       "</div>"
      ],
      "text/plain": [
       "                                                Title  \\\n",
       "13  Editorial: low population mortality from COVID...   \n",
       "7                COVID-19: an Immunopathological View   \n",
       "0   Electrochemical biosensors for pathogen detection   \n",
       "15  Molecular and serological investigation of 201...   \n",
       "11  European Task Force on Atopic Dermatitis (ETFA...   \n",
       "\n",
       "                              DOI  \\\n",
       "13              10.1111/apt.15777   \n",
       "7        10.1128/mSphere.00344-20   \n",
       "0      10.1016/j.bios.2020.112214   \n",
       "15  10.1080/22221751.2020.1729071   \n",
       "11              10.1111/jdv.16411   \n",
       "\n",
       "                                             Abstract  \n",
       "13  The excellent review by Al-Ani et al reflects ...  \n",
       "7   Since its emergence in December 2019, it took ...  \n",
       "0   Recent advances in electrochemical biosensors ...  \n",
       "15  In December 2019, a novel coronavirus (2019-nC...  \n",
       "11  Atopic dermatitis (AD) is a complex disease wi...  "
      ]
     },
     "execution_count": 18,
     "metadata": {},
     "output_type": "execute_result"
    }
   ],
   "source": [
    "import warnings\n",
    "with open('C:\\\\Users\\\\anton\\\\projects\\\\methods\\\\aux_txt_files\\\\20200508_doi.txt', 'r') as read_data:\n",
    "    search_values_input = read_data.read().splitlines()\n",
    "    #print(read_data_1)\n",
    "    #print(search_values_input)\n",
    "read_data.close()\n",
    "#print(search_values_input)\n",
    "df3_03 = df3_3_1.sort_values(by='DOI', ascending=False)\n",
    "#df_03.head()\n",
    "warnings.filterwarnings(\"ignore\", 'This pattern has match groups')\n",
    "df3_3_2 = df3_03[df3_03['DOI'].str.contains('|'.join(search_values_input), case=False, na=False)]\n",
    "df3_3_2.index\n",
    "df3_2_2 = df3_3_1.drop(df3_3_2.index)\n",
    "df3_2_2[['Title', 'DOI', 'Abstract']]"
   ]
  },
  {
   "cell_type": "code",
   "execution_count": 19,
   "metadata": {},
   "outputs": [
    {
     "data": {
      "text/html": [
       "<div>\n",
       "<style scoped>\n",
       "    .dataframe tbody tr th:only-of-type {\n",
       "        vertical-align: middle;\n",
       "    }\n",
       "\n",
       "    .dataframe tbody tr th {\n",
       "        vertical-align: top;\n",
       "    }\n",
       "\n",
       "    .dataframe thead th {\n",
       "        text-align: right;\n",
       "    }\n",
       "</style>\n",
       "<table border=\"1\" class=\"dataframe\">\n",
       "  <thead>\n",
       "    <tr style=\"text-align: right;\">\n",
       "      <th></th>\n",
       "      <th>Title</th>\n",
       "      <th>DOI</th>\n",
       "      <th>Abstract</th>\n",
       "    </tr>\n",
       "  </thead>\n",
       "  <tbody>\n",
       "    <tr>\n",
       "      <th>13</th>\n",
       "      <td>Editorial: low population mortality from COVID...</td>\n",
       "      <td>10.1111/apt.15777</td>\n",
       "      <td>The excellent review by Al-Ani et al reflects ...</td>\n",
       "    </tr>\n",
       "    <tr>\n",
       "      <th>7</th>\n",
       "      <td>COVID-19: an Immunopathological View</td>\n",
       "      <td>10.1128/mSphere.00344-20</td>\n",
       "      <td>Since its emergence in December 2019, it took ...</td>\n",
       "    </tr>\n",
       "    <tr>\n",
       "      <th>0</th>\n",
       "      <td>Electrochemical biosensors for pathogen detection</td>\n",
       "      <td>10.1016/j.bios.2020.112214</td>\n",
       "      <td>Recent advances in electrochemical biosensors ...</td>\n",
       "    </tr>\n",
       "    <tr>\n",
       "      <th>15</th>\n",
       "      <td>Molecular and serological investigation of 201...</td>\n",
       "      <td>10.1080/22221751.2020.1729071</td>\n",
       "      <td>In December 2019, a novel coronavirus (2019-nC...</td>\n",
       "    </tr>\n",
       "    <tr>\n",
       "      <th>11</th>\n",
       "      <td>European Task Force on Atopic Dermatitis (ETFA...</td>\n",
       "      <td>10.1111/jdv.16411</td>\n",
       "      <td>Atopic dermatitis (AD) is a complex disease wi...</td>\n",
       "    </tr>\n",
       "  </tbody>\n",
       "</table>\n",
       "</div>"
      ],
      "text/plain": [
       "                                                Title  \\\n",
       "13  Editorial: low population mortality from COVID...   \n",
       "7                COVID-19: an Immunopathological View   \n",
       "0   Electrochemical biosensors for pathogen detection   \n",
       "15  Molecular and serological investigation of 201...   \n",
       "11  European Task Force on Atopic Dermatitis (ETFA...   \n",
       "\n",
       "                              DOI  \\\n",
       "13              10.1111/apt.15777   \n",
       "7        10.1128/mSphere.00344-20   \n",
       "0      10.1016/j.bios.2020.112214   \n",
       "15  10.1080/22221751.2020.1729071   \n",
       "11              10.1111/jdv.16411   \n",
       "\n",
       "                                             Abstract  \n",
       "13  The excellent review by Al-Ani et al reflects ...  \n",
       "7   Since its emergence in December 2019, it took ...  \n",
       "0   Recent advances in electrochemical biosensors ...  \n",
       "15  In December 2019, a novel coronavirus (2019-nC...  \n",
       "11  Atopic dermatitis (AD) is a complex disease wi...  "
      ]
     },
     "execution_count": 19,
     "metadata": {},
     "output_type": "execute_result"
    }
   ],
   "source": [
    "df3_testo = df3_2_2[['Title', 'DOI', 'Abstract']]\n",
    "df3_testo"
   ]
  },
  {
   "cell_type": "code",
   "execution_count": 20,
   "metadata": {},
   "outputs": [],
   "source": [
    "df3_testo.to_csv('C:\\\\Users\\\\anton\\\\projects\\\\methods\\\\out_lists\\\\scopus_01_extraction.csv', header=None, index=None, sep=' ', mode='a')"
   ]
  },
  {
   "cell_type": "code",
   "execution_count": 24,
   "metadata": {},
   "outputs": [],
   "source": [
    "df3_4_list = df3_2_2['PubMed ID']\n",
    "df3_4_list\n",
    "df3_4_list.to_csv('C:\\\\Users\\\\anton\\\\projects\\\\methods\\\\out_lists\\\\scopus_01_PMCID_list.txt', header=None, index=None, sep=' ', mode='a')"
   ]
  },
  {
   "cell_type": "code",
   "execution_count": null,
   "metadata": {},
   "outputs": [],
   "source": []
  }
 ],
 "metadata": {
  "kernelspec": {
   "display_name": "Python 3",
   "language": "python",
   "name": "python3"
  },
  "language_info": {
   "codemirror_mode": {
    "name": "ipython",
    "version": 3
   },
   "file_extension": ".py",
   "mimetype": "text/x-python",
   "name": "python",
   "nbconvert_exporter": "python",
   "pygments_lexer": "ipython3",
   "version": "3.7.6"
  }
 },
 "nbformat": 4,
 "nbformat_minor": 4
}
