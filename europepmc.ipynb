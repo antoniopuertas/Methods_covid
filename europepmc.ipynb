{
 "cells": [
  {
   "cell_type": "code",
   "execution_count": 1,
   "metadata": {},
   "outputs": [],
   "source": [
    "import json\n",
    "import warnings\n",
    "import pandas as pd\n",
    "import os\n",
    "import sys\n",
    "import matplotlib.pyplot as plt\n",
    "plt.close('all')"
   ]
  },
  {
   "cell_type": "code",
   "execution_count": 2,
   "metadata": {},
   "outputs": [
    {
     "data": {
      "text/plain": [
       "'C:\\\\Users\\\\anton\\\\projects\\\\methods\\\\notebooks'"
      ]
     },
     "execution_count": 2,
     "metadata": {},
     "output_type": "execute_result"
    }
   ],
   "source": [
    "os.getcwd()"
   ]
  },
  {
   "cell_type": "code",
   "execution_count": 3,
   "metadata": {},
   "outputs": [
    {
     "data": {
      "text/plain": [
       "Index(['SOURCE', 'EXTERNAL_ID', 'PMCID', 'DOI', 'AUTHORS', 'PUBLICATION_YEAR',\n",
       "       'PUBLICATION_MONTH', 'TITLE', 'JOURNAL', 'VOLUME', 'ISSUE', 'PAGE_INFO',\n",
       "       'TIMES_CITED', 'GRANTS', 'OPEN_ACCESS', 'LICENSE',\n",
       "       'FIRST_PUB_DATE (dd/mm/yyyy)', 'EMBARGO_DATE (dd/mm/yyyy)', 'IN_EPMC',\n",
       "       'EPMC_AUTH_MAN'],\n",
       "      dtype='object')"
      ]
     },
     "execution_count": 3,
     "metadata": {},
     "output_type": "execute_result"
    }
   ],
   "source": [
    "paper_source_pmc = 'C:\\\\Users\\\\anton\\\\projects\\\\methods\\\\source_files\\\\europepmc_01.csv'\n",
    "data1 = pd.read_csv(paper_source_pmc)\n",
    "data1.keys()\n",
    "#df2_02= df2_01.assign(paper_source_pmc=paper_source_pmc)\n",
    "#df2_02.to_csv('out_europepmc.csv', mode='a', index=False)\n",
    "#df2_02"
   ]
  },
  {
   "cell_type": "code",
   "execution_count": 4,
   "metadata": {},
   "outputs": [
    {
     "data": {
      "text/plain": [
       "(150, 20)"
      ]
     },
     "execution_count": 4,
     "metadata": {},
     "output_type": "execute_result"
    }
   ],
   "source": [
    "df2_01 = pd.DataFrame(data1)\n",
    "df2_01.shape"
   ]
  },
  {
   "cell_type": "code",
   "execution_count": 5,
   "metadata": {},
   "outputs": [
    {
     "data": {
      "text/html": [
       "<div>\n",
       "<style scoped>\n",
       "    .dataframe tbody tr th:only-of-type {\n",
       "        vertical-align: middle;\n",
       "    }\n",
       "\n",
       "    .dataframe tbody tr th {\n",
       "        vertical-align: top;\n",
       "    }\n",
       "\n",
       "    .dataframe thead th {\n",
       "        text-align: right;\n",
       "    }\n",
       "</style>\n",
       "<table border=\"1\" class=\"dataframe\">\n",
       "  <thead>\n",
       "    <tr style=\"text-align: right;\">\n",
       "      <th></th>\n",
       "      <th>SOURCE</th>\n",
       "      <th>EXTERNAL_ID</th>\n",
       "      <th>PMCID</th>\n",
       "      <th>DOI</th>\n",
       "      <th>AUTHORS</th>\n",
       "      <th>PUBLICATION_YEAR</th>\n",
       "      <th>PUBLICATION_MONTH</th>\n",
       "      <th>TITLE</th>\n",
       "      <th>JOURNAL</th>\n",
       "      <th>VOLUME</th>\n",
       "      <th>ISSUE</th>\n",
       "      <th>PAGE_INFO</th>\n",
       "      <th>TIMES_CITED</th>\n",
       "      <th>GRANTS</th>\n",
       "      <th>OPEN_ACCESS</th>\n",
       "      <th>LICENSE</th>\n",
       "      <th>FIRST_PUB_DATE (dd/mm/yyyy)</th>\n",
       "      <th>EMBARGO_DATE (dd/mm/yyyy)</th>\n",
       "      <th>IN_EPMC</th>\n",
       "      <th>EPMC_AUTH_MAN</th>\n",
       "    </tr>\n",
       "  </thead>\n",
       "  <tbody>\n",
       "    <tr>\n",
       "      <th>0</th>\n",
       "      <td>MED</td>\n",
       "      <td>32196430</td>\n",
       "      <td>PMC7172701</td>\n",
       "      <td>10.1080/22221751.2020.1745095</td>\n",
       "      <td>Loeffelholz, Michael J; Tang, Yi-Wei</td>\n",
       "      <td>2020</td>\n",
       "      <td>12.0</td>\n",
       "      <td>Laboratory diagnosis of emerging human coronav...</td>\n",
       "      <td>Emerg Microbes Infect</td>\n",
       "      <td>9.0</td>\n",
       "      <td>1.0</td>\n",
       "      <td>747-756</td>\n",
       "      <td>0</td>\n",
       "      <td>NaN</td>\n",
       "      <td>Y</td>\n",
       "      <td>cc by</td>\n",
       "      <td>2020-12-01</td>\n",
       "      <td>NaN</td>\n",
       "      <td>Y</td>\n",
       "      <td>N</td>\n",
       "    </tr>\n",
       "    <tr>\n",
       "      <th>1</th>\n",
       "      <td>MED</td>\n",
       "      <td>32208917</td>\n",
       "      <td>PMC7103724</td>\n",
       "      <td>10.1080/22221751.2020.1744483</td>\n",
       "      <td>Su, Liang; Ma, Xiang; Yu, Huafeng; Zhang, Zhao...</td>\n",
       "      <td>2020</td>\n",
       "      <td>12.0</td>\n",
       "      <td>The different clinical characteristics of coro...</td>\n",
       "      <td>Emerg Microbes Infect</td>\n",
       "      <td>9.0</td>\n",
       "      <td>1.0</td>\n",
       "      <td>707-713</td>\n",
       "      <td>0</td>\n",
       "      <td>NaN</td>\n",
       "      <td>Y</td>\n",
       "      <td>cc by</td>\n",
       "      <td>2020-12-01</td>\n",
       "      <td>NaN</td>\n",
       "      <td>Y</td>\n",
       "      <td>N</td>\n",
       "    </tr>\n",
       "  </tbody>\n",
       "</table>\n",
       "</div>"
      ],
      "text/plain": [
       "  SOURCE EXTERNAL_ID       PMCID                            DOI  \\\n",
       "0    MED    32196430  PMC7172701  10.1080/22221751.2020.1745095   \n",
       "1    MED    32208917  PMC7103724  10.1080/22221751.2020.1744483   \n",
       "\n",
       "                                             AUTHORS  PUBLICATION_YEAR  \\\n",
       "0               Loeffelholz, Michael J; Tang, Yi-Wei              2020   \n",
       "1  Su, Liang; Ma, Xiang; Yu, Huafeng; Zhang, Zhao...              2020   \n",
       "\n",
       "   PUBLICATION_MONTH                                              TITLE  \\\n",
       "0               12.0  Laboratory diagnosis of emerging human coronav...   \n",
       "1               12.0  The different clinical characteristics of coro...   \n",
       "\n",
       "                 JOURNAL  VOLUME  ISSUE PAGE_INFO  TIMES_CITED GRANTS  \\\n",
       "0  Emerg Microbes Infect     9.0    1.0   747-756            0    NaN   \n",
       "1  Emerg Microbes Infect     9.0    1.0   707-713            0    NaN   \n",
       "\n",
       "  OPEN_ACCESS LICENSE FIRST_PUB_DATE (dd/mm/yyyy) EMBARGO_DATE (dd/mm/yyyy)  \\\n",
       "0           Y   cc by                  2020-12-01                       NaN   \n",
       "1           Y   cc by                  2020-12-01                       NaN   \n",
       "\n",
       "  IN_EPMC EPMC_AUTH_MAN  \n",
       "0       Y             N  \n",
       "1       Y             N  "
      ]
     },
     "execution_count": 5,
     "metadata": {},
     "output_type": "execute_result"
    }
   ],
   "source": [
    "df2_01.head(2)"
   ]
  },
  {
   "cell_type": "code",
   "execution_count": 11,
   "metadata": {},
   "outputs": [
    {
     "data": {
      "text/plain": [
       "(33, 20)"
      ]
     },
     "execution_count": 11,
     "metadata": {},
     "output_type": "execute_result"
    }
   ],
   "source": [
    "with open('C:\\\\Users\\\\anton\\\\projects\\\\methods\\\\aux_txt_files\\\\values_methods.txt', 'r') as read_data:\n",
    "    search_values_input = read_data.read().splitlines()\n",
    "    #print(read_data_1)\n",
    "    #print(search_values_input)\n",
    "read_data.close()\n",
    "df2_03 = df2_01.sort_values(by='DOI', ascending=False)\n",
    "df2_3_1 = df2_03[df2_03['TITLE'].str.contains('|'.join(search_values_input), case=False)]\n",
    "df2_3_1.shape"
   ]
  },
  {
   "cell_type": "code",
   "execution_count": 12,
   "metadata": {},
   "outputs": [
    {
     "data": {
      "text/plain": [
       "(136, 20)"
      ]
     },
     "execution_count": 12,
     "metadata": {},
     "output_type": "execute_result"
    }
   ],
   "source": [
    "import warnings\n",
    "with open('C:\\\\Users\\\\anton\\\\projects\\\\methods\\\\aux_txt_files\\\\20200508_doi.txt', 'r') as read_data:\n",
    "    search_values_input = read_data.read().splitlines()\n",
    "    #print(read_data_1)\n",
    "    #print(search_values_input)\n",
    "read_data.close()\n",
    "#print(search_values_input)\n",
    "df2_03 = df2_01.sort_values(by='DOI', ascending=False)\n",
    "#df_03.head()\n",
    "warnings.filterwarnings(\"ignore\", 'This pattern has match groups')\n",
    "df2_3_1 = df2_03[df2_03['DOI'].str.contains('|'.join(search_values_input), case=False, na=False)]\n",
    "df2_3_1\n",
    "df2_2_1 = df2_01.drop(df2_3_1.index)\n",
    "df2_2_1.shape\n",
    "#df_3_1_1 = df_3_1.drop(df_3_1.index)\n",
    "#df_3_1_1\n",
    "#plt.plot(df_3_1.rel_title, df_3_1.rel_doi, \"o\" )\n",
    "#plt.show()\n",
    "#df_3_1.head()\n",
    "#df_3_1_1 = df_3_1.loc[df_3_1['rel_date'] >= '2020-04-24']\n",
    "#df_3_1_1.head()\n",
    "#df.drop(df.index[[1,3]])"
   ]
  },
  {
   "cell_type": "code",
   "execution_count": 14,
   "metadata": {},
   "outputs": [],
   "source": [
    "df2_missing = df2_2_1[['DOI', 'TITLE', 'PMCID']]\n",
    "df2_missing.shape\n",
    "df2_missing.to_csv('C:\\\\Users\\\\anton\\\\projects\\\\methods\\\\out_lists\\\\europepmc_extraction.csv', header=None, index=None, sep=',', mode='a')"
   ]
  },
  {
   "cell_type": "code",
   "execution_count": 15,
   "metadata": {},
   "outputs": [
    {
     "data": {
      "text/html": [
       "<div>\n",
       "<style scoped>\n",
       "    .dataframe tbody tr th:only-of-type {\n",
       "        vertical-align: middle;\n",
       "    }\n",
       "\n",
       "    .dataframe tbody tr th {\n",
       "        vertical-align: top;\n",
       "    }\n",
       "\n",
       "    .dataframe thead th {\n",
       "        text-align: right;\n",
       "    }\n",
       "</style>\n",
       "<table border=\"1\" class=\"dataframe\">\n",
       "  <thead>\n",
       "    <tr style=\"text-align: right;\">\n",
       "      <th></th>\n",
       "      <th>PMCID</th>\n",
       "    </tr>\n",
       "  </thead>\n",
       "  <tbody>\n",
       "    <tr>\n",
       "      <th>1</th>\n",
       "      <td>PMC7103724</td>\n",
       "    </tr>\n",
       "    <tr>\n",
       "      <th>2</th>\n",
       "      <td>PMC7177139</td>\n",
       "    </tr>\n",
       "    <tr>\n",
       "      <th>3</th>\n",
       "      <td>PMC7166307</td>\n",
       "    </tr>\n",
       "    <tr>\n",
       "      <th>4</th>\n",
       "      <td>PMC7172500</td>\n",
       "    </tr>\n",
       "    <tr>\n",
       "      <th>5</th>\n",
       "      <td>PMC7189397</td>\n",
       "    </tr>\n",
       "    <tr>\n",
       "      <th>...</th>\n",
       "      <td>...</td>\n",
       "    </tr>\n",
       "    <tr>\n",
       "      <th>145</th>\n",
       "      <td>PMC7163482</td>\n",
       "    </tr>\n",
       "    <tr>\n",
       "      <th>146</th>\n",
       "      <td>PMC7101507</td>\n",
       "    </tr>\n",
       "    <tr>\n",
       "      <th>147</th>\n",
       "      <td>PMC7189648</td>\n",
       "    </tr>\n",
       "    <tr>\n",
       "      <th>148</th>\n",
       "      <td>PMC7128473</td>\n",
       "    </tr>\n",
       "    <tr>\n",
       "      <th>149</th>\n",
       "      <td>NaN</td>\n",
       "    </tr>\n",
       "  </tbody>\n",
       "</table>\n",
       "<p>136 rows × 1 columns</p>\n",
       "</div>"
      ],
      "text/plain": [
       "          PMCID\n",
       "1    PMC7103724\n",
       "2    PMC7177139\n",
       "3    PMC7166307\n",
       "4    PMC7172500\n",
       "5    PMC7189397\n",
       "..          ...\n",
       "145  PMC7163482\n",
       "146  PMC7101507\n",
       "147  PMC7189648\n",
       "148  PMC7128473\n",
       "149         NaN\n",
       "\n",
       "[136 rows x 1 columns]"
      ]
     },
     "execution_count": 15,
     "metadata": {},
     "output_type": "execute_result"
    }
   ],
   "source": [
    "df2_testo = df2_2_1[['PMCID']]\n",
    "df2_testo"
   ]
  },
  {
   "cell_type": "code",
   "execution_count": 16,
   "metadata": {},
   "outputs": [],
   "source": [
    "df2_testo.to_csv('C:\\\\Users\\\\anton\\\\projects\\\\methods\\\\out_lists\\\\europepmc_PMCID_only.txt', header=None, index=None, sep=',', mode='a')"
   ]
  },
  {
   "cell_type": "code",
   "execution_count": null,
   "metadata": {},
   "outputs": [],
   "source": []
  }
 ],
 "metadata": {
  "kernelspec": {
   "display_name": "Python 3",
   "language": "python",
   "name": "python3"
  },
  "language_info": {
   "codemirror_mode": {
    "name": "ipython",
    "version": 3
   },
   "file_extension": ".py",
   "mimetype": "text/x-python",
   "name": "python",
   "nbconvert_exporter": "python",
   "pygments_lexer": "ipython3",
   "version": "3.7.6"
  }
 },
 "nbformat": 4,
 "nbformat_minor": 4
}
